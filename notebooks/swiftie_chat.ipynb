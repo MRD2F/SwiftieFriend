{
 "cells": [
  {
   "cell_type": "markdown",
   "id": "c01c1b5b",
   "metadata": {},
   "source": [
    "## Features Allowed\n",
    "\n",
    "1. Get the lyrics from a song after giving its name \n",
    "2. Return the song list from an album name\n",
    "3. Get a match with a song for a specific query/request\n",
    "4. Get all the albums a single song is conteined\n",
    "5. Classify mood of a song\n",
    "6. Get all the albumns that have a song simmilar to the request\n",
    "7. Show all the songs simmilar to the one from the query (take into consideration remixed or TVs)"
   ]
  },
  {
   "cell_type": "markdown",
   "id": "56302a72",
   "metadata": {},
   "source": [
    "# Imports"
   ]
  },
  {
   "cell_type": "code",
   "execution_count": 1,
   "id": "d94b112a",
   "metadata": {},
   "outputs": [
    {
     "name": "stderr",
     "output_type": "stream",
     "text": [
      "/usr/lib/python3.12/importlib/__init__.py:90: LangChainDeprecationWarning: As of langchain-core 0.3.0, LangChain uses pydantic v2 internally. The langchain_core.pydantic_v1 module was a compatibility shim for pydantic v1, and should no longer be used. Please update the code to import from Pydantic directly.\n",
      "\n",
      "For example, replace imports like: `from langchain_core.pydantic_v1 import BaseModel`\n",
      "with: `from pydantic import BaseModel`\n",
      "or the v1 compatibility namespace if you are working in a code base that has not been fully upgraded to pydantic 2 yet. \tfrom pydantic.v1 import BaseModel\n",
      "\n",
      "  return _bootstrap._gcd_import(name[level:], package, level)\n",
      "/home/mrosaria/Projects/NLP/SwiftieSentimentAnalysis/venv/lib/python3.12/site-packages/tqdm/auto.py:21: TqdmWarning: IProgress not found. Please update jupyter and ipywidgets. See https://ipywidgets.readthedocs.io/en/stable/user_install.html\n",
      "  from .autonotebook import tqdm as notebook_tqdm\n"
     ]
    }
   ],
   "source": [
    "import os\n",
    "from langchain_community.embeddings import HuggingFaceEmbeddings\n",
    "\n",
    "from langchain.vectorstores import Chroma\n",
    "import gradio as gr\n",
    "import os\n",
    "import re\n",
    "import json\n",
    "\n",
    "##### GENAI\n",
    "from dotenv import load_dotenv\n",
    "import google.generativeai as gen\n",
    "\n",
    "## LLM for the selfquery\n",
    "from langchain_google_genai import ChatGoogleGenerativeAI\n",
    "\n",
    "#### separate eng words without spacing\n",
    "import wordninja\n",
    "from IPython.display import Markdown, display\n",
    "\n",
    "#Matching between str\n",
    "from rapidfuzz import fuzz"
   ]
  },
  {
   "cell_type": "markdown",
   "id": "290b0300",
   "metadata": {},
   "source": [
    "# Enviroment / LLM"
   ]
  },
  {
   "cell_type": "code",
   "execution_count": 2,
   "id": "b4d2aaeb",
   "metadata": {},
   "outputs": [],
   "source": [
    "def get_google_api_key():\n",
    "    load_dotenv()\n",
    "    GOOGLE_API_KEY = os.getenv(\"GOOGLE_API_KEY\")\n",
    "    if not GOOGLE_API_KEY:\n",
    "        raise ValueError(\"Missing GOOGLE_API_KEY in .env\") \n",
    "    return GOOGLE_API_KEY\n",
    "\n",
    "api_key = get_google_api_key()\n",
    "gen.configure(api_key=api_key)\n",
    "\n",
    "\n",
    "def get_llm(model_name=\"gemini-1.5-flash\"):\n",
    "\n",
    "    api_key = get_google_api_key() \n",
    "\n",
    "    return ChatGoogleGenerativeAI(\n",
    "        model=model_name,\n",
    "        google_api_key=api_key,\n",
    "        temperature=0.7,\n",
    "    )\n"
   ]
  },
  {
   "cell_type": "markdown",
   "id": "e871874e",
   "metadata": {},
   "source": [
    "# Pre-processing Functions"
   ]
  },
  {
   "cell_type": "code",
   "execution_count": 3,
   "id": "78da52df",
   "metadata": {},
   "outputs": [],
   "source": [
    "def normalize_lyrics(text):\n",
    "    text = re.sub(r'\\[.*?post-chorus.*?\\]', '[Post-Chorus]', text, flags=re.IGNORECASE)\n",
    "    text = re.sub(r'\\[.*?chorus.*?\\]', '[Chorus]', text, flags=re.IGNORECASE)\n",
    "    text = re.sub(r'\\[.*?verse.*?\\]', '[Verse]', text, flags=re.IGNORECASE)\n",
    "    text = re.sub(r'\\[.*?bridge.*?\\]', '[Bridge]', text, flags=re.IGNORECASE)\n",
    "    text = re.sub(r'\\[.*?into.*?\\]', '[Intro]', text, flags=re.IGNORECASE)\n",
    "    text = re.sub(r'\\[.*?interlude.*?\\]', '[Interlude]', text, flags=re.IGNORECASE)\n",
    "    text = re.sub(r'\\[.*?outro.*?\\]', '[Outro]', text, flags=re.IGNORECASE)\n",
    "    return text\n",
    "\n",
    "def clean_text(text):\n",
    "    text = re.sub(r'[\\u2000-\\u200A\\u202F\\u205F\\u3000]', ' ', text)\n",
    "    text = normalize_lyrics(text)\n",
    "    # text  = re.sub(r\"\\\\'\", \"\", text)\n",
    "    return text\n",
    "\n",
    "def remove_symbols(s):\n",
    "    return re.sub(r\"[-?_,.]\", \"\", s)\n",
    "\n",
    "def split_by_capitals(s):\n",
    "    # Creates keyword list with the words\n",
    "    s = remove_symbols(s)\n",
    "    n_cap_letters = len(s)\n",
    "    keywords = [i.lower() for i in re.findall(r'[A-Z][^A-Z]*', s)]\n",
    "    if (len(keywords) == 1):\n",
    "        return keywords\n",
    "    else:\n",
    "        return [i.lower() for i in wordninja.split(s)]\n",
    "\n",
    "def space_song_names(s):\n",
    "    #Joins the cleaned keywords\n",
    "    #Convert LavanderHaze -> Lavander Haze , Anti-Hero -> anti hero\n",
    "    return \" \".join(i for i in split_by_capitals(s))\n",
    "\n"
   ]
  },
  {
   "cell_type": "markdown",
   "id": "281234fe",
   "metadata": {},
   "source": [
    "# Load Chroma DB and json album_songs_summary"
   ]
  },
  {
   "cell_type": "code",
   "execution_count": 4,
   "id": "50c9b95e",
   "metadata": {},
   "outputs": [
    {
     "name": "stderr",
     "output_type": "stream",
     "text": [
      "Failed to send telemetry event ClientStartEvent: capture() takes 1 positional argument but 3 were given\n",
      "Failed to send telemetry event ClientCreateCollectionEvent: capture() takes 1 positional argument but 3 were given\n"
     ]
    }
   ],
   "source": [
    "def get_collection():\n",
    "    model_name = \"sentence-transformers/all-mpnet-base-v2\"\n",
    "    huggingface_embedding = HuggingFaceEmbeddings(model_name=model_name)\n",
    "    vectordb = Chroma(\n",
    "    persist_directory=\"chroma_db\",\n",
    "    collection_name=\"taylor_songs_collection\",\n",
    "    embedding_function=huggingface_embedding\n",
    "    )\n",
    "    return vectordb\n",
    "\n",
    "vectordb = get_collection()"
   ]
  },
  {
   "cell_type": "code",
   "execution_count": 5,
   "id": "1c9df6d8",
   "metadata": {},
   "outputs": [],
   "source": [
    "with open('album_songs_summary', 'r') as f:\n",
    "    album_songs_summary = json.load(f)"
   ]
  },
  {
   "cell_type": "markdown",
   "id": "0ea5df36",
   "metadata": {},
   "source": [
    "#  Functios Tools for generating content"
   ]
  },
  {
   "cell_type": "markdown",
   "id": "8d3b0ca5",
   "metadata": {},
   "source": [
    "## Stored Info"
   ]
  },
  {
   "cell_type": "code",
   "execution_count": 6,
   "id": "fccf48f2",
   "metadata": {},
   "outputs": [],
   "source": [
    "def get_database_info():\n",
    "    return album_songs_summary"
   ]
  },
  {
   "cell_type": "markdown",
   "id": "48aabfc6",
   "metadata": {},
   "source": [
    "## get_complete_lyrics"
   ]
  },
  {
   "cell_type": "code",
   "execution_count": 7,
   "id": "27e2dd52",
   "metadata": {},
   "outputs": [],
   "source": [
    "def get_complete_lyrics(song_name : str, album_name: str = \"\", threshold : int = 87) -> dict:\n",
    "    \"\"\" returns a dictionary with the most correlated songs matching the song_name requested\"\"\"\n",
    "    matches, song_album = get_best_match_name(song_name, threshold)\n",
    "    \n",
    "    songs = {}\n",
    "    #print(f'The best matches for the requested song \"{song_name}\" are: ')\n",
    "    for song, album in song_album.items():\n",
    "        #print(f'song: \"{space_song_names(song_name)}\" from album : \"{space_song_names(album)}\"')\n",
    "        results = vectordb._collection.get(\n",
    "            where={\n",
    "                \"$and\": [\n",
    "                    {\"song\": {\"$eq\": song}},\n",
    "                    {\"album\": {\"$eq\": album}}\n",
    "                ]\n",
    "            }\n",
    "        )\n",
    "        songs[song] = results['documents']\n",
    "    return songs\n",
    "#get_complete_lyrics('all to well 10 mn')"
   ]
  },
  {
   "cell_type": "markdown",
   "id": "1b8f023c",
   "metadata": {},
   "source": [
    "## get_album_songs"
   ]
  },
  {
   "cell_type": "code",
   "execution_count": 8,
   "id": "96cf92bf",
   "metadata": {},
   "outputs": [],
   "source": [
    "def get_album_songs(album_name: str, threshold : int = 90):\n",
    "    matches_albums = []\n",
    "    album_tracks = {}\n",
    "    for stored_album in album_songs_summary.keys():\n",
    "        stored_album_spaced = space_song_names(stored_album)\n",
    "        score = fuzz.partial_ratio(stored_album_spaced, space_song_names(album_name))\n",
    "        if score >= threshold:\n",
    "            matches_albums.append(stored_album)\n",
    "\n",
    "    n = len(album_name.split(' '))\n",
    "    matches_albums = list(set(matches_albums))\n",
    "    for album in matches_albums:\n",
    "        # print(n, split_by_capitals(album), space_song_names(album_name).lower())\n",
    "        if (n == 1) & (space_song_names(album_name).lower() in split_by_capitals(album)):\n",
    "            album_tracks[space_song_names(album)] = [space_song_names(i) for i in album_songs_summary[album]]\n",
    "        elif (n > 1):\n",
    "            album_tracks[space_song_names(album)] = [space_song_names(i) for i in album_songs_summary[album]]\n",
    "            \n",
    "\n",
    "    return album_tracks\n",
    "\n",
    "# album = 'midnights 3am'\n",
    "# tracks = get_album_songs_v2(album, 85)\n",
    "# print(tracks.keys())\n"
   ]
  },
  {
   "cell_type": "markdown",
   "id": "6edaa267",
   "metadata": {},
   "source": [
    "## get_song_match"
   ]
  },
  {
   "cell_type": "code",
   "execution_count": 9,
   "id": "73ea4e44",
   "metadata": {},
   "outputs": [],
   "source": [
    "def get_song_match(query : str, n_results : int = 10):\n",
    "     \"\"\"Finds the most relevant lyrics song based on the query.\"\"\"\n",
    "    #  retriever = vectordb.as_retriever(search_type=\"mmr\", search_kwargs={\"k\": n_results, \"filter\": {\"album\": \"Lover\"} })\n",
    "     retriever = vectordb.as_retriever(search_type=\"mmr\", search_kwargs={\"k\": n_results })\n",
    "\n",
    "     docs = retriever.invoke(query)    \n",
    "     print(docs)\n",
    "\n",
    "     songs_info = {}\n",
    "     for doc in docs:\n",
    "         song_text = doc.page_content\n",
    "         song_name = doc.metadata[\"song\"]\n",
    "         album_name = doc.metadata[\"album\"]\n",
    "         if song_name in songs_info:\n",
    "             #print(f\"Duplicate song found: {song_name}\")\n",
    "            #  print(len(songs_info[song_name][\"lyrics\"]))\n",
    "             songs_info[song_name][\"lyrics\"] += \"\\n\" + song_text\n",
    "            #  print(len(songs_info[song_name][\"lyrics\"]))\n",
    "             continue\n",
    "         songs_info[song_name] = {\n",
    "             \"song_name\": song_name,\n",
    "             \"lyrics\": song_text,\n",
    "             \"album\" : album_name\n",
    "         }\n",
    "     return songs_info\n",
    "\n",
    "# songs_info = get_song_match(query=\"I want a song from albumMidnights to cry\", n_results=10)\n",
    "# songs_info"
   ]
  },
  {
   "cell_type": "markdown",
   "id": "7f7103cc",
   "metadata": {},
   "source": [
    "## query_collection"
   ]
  },
  {
   "cell_type": "code",
   "execution_count": 10,
   "id": "47afac72",
   "metadata": {},
   "outputs": [],
   "source": [
    "def query_collection(matadata_label, value, return_lyrics=False):\n",
    "    metadata = {matadata_label: value}\n",
    "    results = vectordb._collection.get(where=metadata)\n",
    "    if return_lyrics:\n",
    "        return results['documents']\n",
    "    else:\n",
    "        return results\n",
    "    \n",
    "#query_collection(\"album\", \"Lover\", True)"
   ]
  },
  {
   "cell_type": "markdown",
   "id": "3a4b4a60",
   "metadata": {},
   "source": [
    "## classify_mood"
   ]
  },
  {
   "cell_type": "code",
   "execution_count": 11,
   "id": "6f454458",
   "metadata": {},
   "outputs": [],
   "source": [
    "def classify_mood(query: str) -> str:\n",
    "\n",
    "    system_prompt = (\n",
    "    \"You are an intelligent query router for a chatbot. \"\n",
    "    \"Your task is to classify user queries or song text based on the sentiment or mood expressed. \"\n",
    "    \"Possible categories include: 'sad', 'happy', 'melancholy', 'dance', 'revenge', 'mad', 'weepy', 'depressed', 'charmed', 'joyful', 'celebrate', 'in love', 'angry', 'joy', 'gratitude', 'serenity', 'anxiety', 'resentment', 'despair'.\\n\\n\"\n",
    "    \"Use the following rules:\\n\"\n",
    "    \"1. Analyze the emotional tone of the text (user query or lyrics).\\n\"\n",
    "    \"2. Select only **one or more** mood label that best captures the primaries emotional intents.\\n\"\n",
    "    \"3. If the text expresses multiple emotions, choose the most dominant or consistent ones.\\n\"\n",
    "    \"4. Use your understanding of natural language and human emotions to infer implicit mood where it's not obvious.\\n\"\n",
    "    \"5. Respond with the label only — do not include explanations or extra commentary.\\n\\n\"\n",
    "    \"Examples:\\n\"\n",
    "    \"Input: 'Why did you leave me? Everything reminds me of you.' → Output: sad, angry, melancholy \\n\"\n",
    "    \"Input: 'I just met someone new and I can’t stop smiling!' → Output: in love, happy, joyful \\n\"\n",
    "    \"Input: 'This beat makes me want to dance all night!' → Output: dance\\n\"\n",
    "    \"Input: 'We’re gonna burn it all down, no mercy!' → Output: angry\\n\"\n",
    "    \"Input: 'I won, and they all doubted me.' → Output: revenge, resentment\\n\"\n",
    "    \"Input: 'Just got a promotion, let’s celebrate!' → Output: celebrate, dance, joyful \\n\"\n",
    "    \"Input: 'Walking alone in the rain, thinking of old times.' → Output: melancholy, sad, anxiety, despair \\n\"\n",
    ")\n",
    "\n",
    "    model = gen.GenerativeModel(\n",
    "                model_name=\"gemini-2.0-flash-001\",\n",
    "                system_instruction=system_prompt,\n",
    "                tools=[]\n",
    "            )\n",
    "    chat = model.start_chat(history=[], enable_automatic_function_calling=True)\n",
    "\n",
    "    response = chat.send_message(query)\n",
    "    return response.text\n",
    "\n",
    "#classify_mood('I love revenge')"
   ]
  },
  {
   "cell_type": "markdown",
   "id": "a06f76bc",
   "metadata": {},
   "source": [
    "## get_best_match_name"
   ]
  },
  {
   "cell_type": "code",
   "execution_count": 12,
   "id": "aa9d080b",
   "metadata": {},
   "outputs": [],
   "source": [
    "def get_best_match_name(name : str, threshold : int = 87) -> list:\n",
    "    song_name = space_song_names(name)\n",
    "    matches=[]\n",
    "    song_album={}\n",
    "    for album, stored_songs in album_songs_summary.items():\n",
    "        for stored_song in stored_songs:\n",
    "            stored_song_spaced = space_song_names(stored_song)\n",
    "            score = fuzz.partial_ratio(song_name, stored_song_spaced)\n",
    "            if score >= threshold:\n",
    "                matches.append(stored_song)\n",
    "                song_album[stored_song] = album\n",
    "    return matches, song_album\n",
    "#print(get_best_match_name('style'))\n",
    "#matches, song_album = get_best_match_name('red')"
   ]
  },
  {
   "cell_type": "code",
   "execution_count": null,
   "id": "0c28ebe4",
   "metadata": {},
   "outputs": [],
   "source": []
  },
  {
   "cell_type": "markdown",
   "id": "33795fff",
   "metadata": {},
   "source": []
  },
  {
   "cell_type": "markdown",
   "id": "9e7eb8f5",
   "metadata": {},
   "source": [
    "# Create Chat"
   ]
  },
  {
   "cell_type": "markdown",
   "id": "af257617",
   "metadata": {},
   "source": [
    "## system_instructions"
   ]
  },
  {
   "cell_type": "code",
   "execution_count": 13,
   "id": "08d4ea05",
   "metadata": {},
   "outputs": [],
   "source": [
    "system_instructions = \"\"\"\n",
    "You are a smart assistant that helps users explore and understand Taylor Swift’s songs and albums using a local database.\n",
    "You have access to tools that let you retrieve lyrics, match songs to moods, or identify albums. Choose the most relevant tool to satisfy the user query.\n",
    "\n",
    "\n",
    "\n",
    "You have access to the following functions:\n",
    "\n",
    "1. get_complete_lyrics(song_name : str, album_name: str = \"\", threshold : int = 87):\n",
    "   - Use when the user asks for the lyrics of a specific song, can include the album name. Returns a dictionary with the possible song matches and their lyrics text.\n",
    "\n",
    "2. get_album_songs(album_name):\n",
    "   - Use when the user wants to know the list of songs from a specific album.\n",
    "\n",
    "3. get_song_match(query, n_results=10):\n",
    "   - Use to recommend songs based on a user's emotion, feeling, or situation.\n",
    "   - Also use this to interpret the meaning of a query and find matching songs or lyrics.\n",
    "\n",
    "4. query_collection(metadata_label, value, return_lyrics=False):\n",
    "   - Use when the user wants to find out what album a song belongs to or to filter songs based on metadata.\n",
    "\n",
    "5. classify_mood(query):\n",
    "   - Use to classify the emotional mood of a query and which song can match. Useful when a user is expressing feelings (e.g., “I feel lonely”).\n",
    "\n",
    "6. get_best_match_name(name: str, threshold: int = 87)\n",
    "- Use to find the best match between the user requested song or album name with the information saved in the database.\n",
    "\n",
    "7. get_database_info()\n",
    "- Use to have the complete list of albums and song names stored available to seach.\n",
    "\n",
    "You can only use songs and albums by Taylor Swift from the local Chroma vector database. Do not reference external artists or sources.\n",
    "\n",
    "Guidelines:\n",
    "- First understand the user’s intent (lyrics, album info, mood, meaning, etc.)\n",
    "- Respond in a friendly, informed tone.\n",
    "- Always include the song and album title if known.\n",
    "- If you need to browse the available information in the database use `get_database_info()`.\n",
    "- If nothing matches exactly use `get_best_match_name()`, offer the closest relevant results.\n",
    "- If a query expresses a mood or feeling, use `classify_mood()` and then find songs that match using `get_song_match()`.\n",
    "- If a query expresses a specific song lyrics requiest use  `get_lyrics_from_song_name().\n",
    "\n",
    "Examples:\n",
    "- \"Give me the lyrics to 'All Too Well'\" → get_complete_lyrics by song_name\n",
    "- \"What album is 'Enchanted' from?\" → get_best_match_name by song name\n",
    "- \"I’m in love and want something romantic\" → classify mood + get_song_match\n",
    "- \"Songs from '1989'?\" → get_album_songs\n",
    "\n",
    "Keep your answers emotionally aware and relevant to Taylor Swift’s discography only.\n",
    "\"\"\""
   ]
  },
  {
   "cell_type": "markdown",
   "id": "7168b998",
   "metadata": {},
   "source": [
    "## Tools"
   ]
  },
  {
   "cell_type": "code",
   "execution_count": 14,
   "id": "06f427f8",
   "metadata": {},
   "outputs": [],
   "source": [
    "tools = [get_complete_lyrics, get_album_songs, \n",
    "         get_song_match, query_collection, classify_mood,\n",
    "         get_best_match_name, get_database_info]"
   ]
  },
  {
   "cell_type": "markdown",
   "id": "501badbf",
   "metadata": {},
   "source": [
    "## Create Chat (For simple gradio interface)"
   ]
  },
  {
   "cell_type": "code",
   "execution_count": 15,
   "id": "374e28ba",
   "metadata": {},
   "outputs": [],
   "source": [
    "def create_swiftie_chat(instructions, tool_list, model_name=\"gemini-2.0-flash-001\"):    \n",
    "    model = gen.GenerativeModel(\n",
    "            model_name=model_name,\n",
    "            system_instruction=instructions,\n",
    "            tools=tool_list\n",
    "        )\n",
    "    chat = model.start_chat(history=[], enable_automatic_function_calling=True)\n",
    "    return chat\n",
    "\n",
    "swiftie_chat = create_swiftie_chat(system_instructions, tools)\n",
    "def ask_a_swiftie(user_query, swiftie_chat): #instructions=system_instructions, tool_list=tools):\n",
    "        #chat = create_swiftie_chat(instructions, tool_list)\n",
    "        response = swiftie_chat.send_message(user_query)\n",
    "        return response.text\n",
    "\n",
    "def ask_a_swiftie_(query):\n",
    "      return display(Markdown(ask_a_swiftie(query, swiftie_chat)))\n",
    "      "
   ]
  },
  {
   "cell_type": "code",
   "execution_count": 16,
   "id": "1c9e9f45",
   "metadata": {},
   "outputs": [
    {
     "data": {
      "text/markdown": [
       "\"All Too Well\" appears in the following albums and versions:\n",
       "\n",
       "*   **Red:** As \"All Too Well\"\n",
       "*   **Red (Taylor's Version):**\n",
       "    *   \"All Too Well (Taylor's Version)\"\n",
       "    *   \"All Too Well (10 Minute Version) (Taylor's Version) (From the Vault)\"\n",
       "*   **All Too Well: The Short Film (EP):** As \"All Too Well (10 Minute Version)\"\n",
       "*   **Red (Taylor's Version): Could You Be The One Chapter**\n",
       "*   **Red (Taylor's Version): From The Vault Chapter**\n",
       "*   **Red (Taylor's Version): She Wrote A Song About Me Chapter**\n",
       "*   **Red (Taylor's Version): The Slow Motion Chapter**"
      ],
      "text/plain": [
       "<IPython.core.display.Markdown object>"
      ]
     },
     "metadata": {},
     "output_type": "display_data"
    }
   ],
   "source": [
    "#query=\"I need a song to motivates me to work, not to cry like happyness\"\n",
    "query=\"from which song is it the word champagne sea?\" \n",
    "query=\"give all the albumns and versions the song All to Well \" \n",
    "\n",
    "ask_a_swiftie_(query)"
   ]
  },
  {
   "cell_type": "markdown",
   "id": "8cd11dfd",
   "metadata": {},
   "source": [
    "## Gradio (simple)"
   ]
  },
  {
   "cell_type": "code",
   "execution_count": 17,
   "id": "ed2dd32b",
   "metadata": {},
   "outputs": [],
   "source": [
    "demo = gr.Interface(\n",
    "    fn= ask_a_swiftie_, \n",
    "    inputs=[\n",
    "        gr.Textbox(label=\"Input Query\", lines=2, placeholder=\"Please switie, go ahead and ask me whatever you want, you know we talk a secreate langange we cant speak with anyone else\")\n",
    "    ], \n",
    "    outputs=[gr.Textbox(label=\"Swiftie Answer\")\n",
    "    ],\n",
    "    title=\"Your Switfie BFF\"\n",
    ")"
   ]
  },
  {
   "cell_type": "markdown",
   "id": "d0594f34",
   "metadata": {},
   "source": [
    "## Create Chat Interface (gpt like)"
   ]
  },
  {
   "cell_type": "code",
   "execution_count": 18,
   "id": "0f5b8860",
   "metadata": {},
   "outputs": [],
   "source": [
    "chat_session = None\n",
    "\n",
    "def ask_a_swiftie_with_history(user_message, history):\n",
    "    global chat_session\n",
    "\n",
    "    if chat_session is None:\n",
    "        chat_session = create_swiftie_chat(system_instructions, tools)\n",
    "\n",
    "    response = chat_session.send_message(user_message)\n",
    "    \n",
    "    return response.text"
   ]
  },
  {
   "cell_type": "code",
   "execution_count": null,
   "id": "cc478d6f",
   "metadata": {},
   "outputs": [
    {
     "name": "stderr",
     "output_type": "stream",
     "text": [
      "/tmp/ipykernel_3877934/2668711853.py:5: UserWarning: You have not specified a value for the `type` parameter. Defaulting to the 'tuples' format for chatbot messages, but this is deprecated and will be removed in a future version of Gradio. Please set type='messages' instead, which uses openai-style dictionaries with 'role' and 'content' keys.\n",
      "  chatbot=gr.Chatbot(),\n",
      "/home/mrosaria/Projects/NLP/SwiftieSentimentAnalysis/venv/lib/python3.12/site-packages/gradio/chat_interface.py:322: UserWarning: The gr.ChatInterface was not provided with a type, so the type of the gr.Chatbot, 'tuples', will be used.\n",
      "  warnings.warn(\n"
     ]
    },
    {
     "name": "stdout",
     "output_type": "stream",
     "text": [
      "* Running on local URL:  http://127.0.0.1:7864\n",
      "* Running on public URL: https://2f0fd905aa364fdce0.gradio.live\n",
      "\n",
      "This share link expires in 1 week. For free permanent hosting and GPU upgrades, run `gradio deploy` from the terminal in the working directory to deploy to Hugging Face Spaces (https://huggingface.co/spaces)\n"
     ]
    },
    {
     "data": {
      "text/html": [
       "<div><iframe src=\"https://2f0fd905aa364fdce0.gradio.live\" width=\"100%\" height=\"500\" allow=\"autoplay; camera; microphone; clipboard-read; clipboard-write;\" frameborder=\"0\" allowfullscreen></iframe></div>"
      ],
      "text/plain": [
       "<IPython.core.display.HTML object>"
      ]
     },
     "metadata": {},
     "output_type": "display_data"
    },
    {
     "data": {
      "text/plain": []
     },
     "execution_count": 19,
     "metadata": {},
     "output_type": "execute_result"
    }
   ],
   "source": [
    "demo = gr.ChatInterface(\n",
    "    fn=ask_a_swiftie_with_history,\n",
    "    title=\"Your Swiftie BFF 💖\",\n",
    "    description=\"Ask me anything about Taylor Swift songs, albums, moods or lyrics!\",\n",
    "    chatbot=gr.Chatbot(),\n",
    "    textbox=gr.Textbox(placeholder=\"Ask me something like 'Give me a sad song like illicit affairs'...you know we talk a secret language we can't speak with anyone else\"),\n",
    "    theme=\"soft\", \n",
    "    examples=[\"What album is 'Enchanted' from?\", \"I’m in love and want something romantic\", \"Give me the lyrics to 'All Too Well'\"]\n",
    ")\n",
    "\n",
    "demo.launch(share=True)"
   ]
  },
  {
   "cell_type": "markdown",
   "id": "e63c07cf",
   "metadata": {},
   "source": []
  }
 ],
 "metadata": {
  "kernelspec": {
   "display_name": "venv",
   "language": "python",
   "name": "python3"
  },
  "language_info": {
   "codemirror_mode": {
    "name": "ipython",
    "version": 3
   },
   "file_extension": ".py",
   "mimetype": "text/x-python",
   "name": "python",
   "nbconvert_exporter": "python",
   "pygments_lexer": "ipython3",
   "version": "3.12.3"
  }
 },
 "nbformat": 4,
 "nbformat_minor": 5
}

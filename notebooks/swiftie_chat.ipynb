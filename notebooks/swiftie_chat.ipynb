{
 "cells": [
  {
   "cell_type": "markdown",
   "id": "c01c1b5b",
   "metadata": {},
   "source": [
    "## Features Allowed\n",
    "\n",
    "1. Get the lyrics from a song after giving its name \n",
    "2. Return the song list from an album name\n",
    "3. Get a match with a song for a specific query/request\n",
    "4. Get all the albums a single song is conteined\n",
    "5. Classify mood of a song\n",
    "6. Get all the albumns that have a song simmilar to the request\n",
    "7. Show all the songs simmilar to the one from the query (take into consideration remixed or TVs)"
   ]
  },
  {
   "cell_type": "markdown",
   "id": "56302a72",
   "metadata": {},
   "source": [
    "# Imports"
   ]
  },
  {
   "cell_type": "code",
   "execution_count": 3,
   "id": "e515a3d0",
   "metadata": {},
   "outputs": [],
   "source": [
    "import sys\n",
    "sys.path.append(\"../python\")\n",
    "from etl_swiftiechat_pipeline import ETLSwiftieChatPipeline  "
   ]
  },
  {
   "cell_type": "code",
   "execution_count": 4,
   "id": "831286eb",
   "metadata": {},
   "outputs": [],
   "source": [
    "collection_name = \"taylor_songs_collection\"\n",
    "file_summary_songs = \"album_songs_summary\"\n",
    "swiftie_chat_instructions = \"../config/swiftie_chat_system_instructions.txt\"\n",
    "etl_assistant_pipeline = ETLSwiftieChatPipeline(collection_name, file_summary_songs, swiftie_chat_instructions)\n",
    "\n"
   ]
  },
  {
   "cell_type": "code",
   "execution_count": 5,
   "metadata": {},
   "outputs": [
    {
     "name": "stdout",
     "output_type": "stream",
     "text": [
      "The most emotionally evocative part of \"All Too Well\" is often considered the bridge.  It's where the raw pain and heartbreak of the relationship are laid bare:\n",
      "\n",
      "\"And you call me up again just to break me like a promise\n",
      "So casually cruel in the name of being honest\n",
      "I'm a crumpled up piece of paper lying here\n",
      "'Cause I remember it all, all, all\n",
      "Too well\"\n",
      "\n",
      "This section encapsulates the feeling of being deliberately hurt, the betrayal of a promise, and the lasting impact of the pain.  It's a powerful moment of vulnerability.\n",
      "\n"
     ]
    }
   ],
   "source": [
    "print(etl_assistant_pipeline.ask_a_swiftie_with_history(\"Give me the lyrics to 'All Too Well',give me the most emotional part\"))\n"
   ]
  },
  {
   "cell_type": "code",
   "execution_count": 6,
   "id": "393495fe",
   "metadata": {},
   "outputs": [
    {
     "name": "stderr",
     "output_type": "stream",
     "text": [
      "/home/mrosaria/Projects/NLP/SwiftieFriend/.venv/lib/python3.12/site-packages/gradio/chat_interface.py:348: UserWarning: The 'tuples' format for chatbot messages is deprecated and will be removed in a future version of Gradio. Please set type='messages' instead, which uses openai-style 'role' and 'content' keys.\n",
      "  self.chatbot = Chatbot(\n"
     ]
    },
    {
     "name": "stdout",
     "output_type": "stream",
     "text": [
      "* Running on local URL:  http://127.0.0.1:7860\n",
      "* To create a public link, set `share=True` in `launch()`.\n"
     ]
    }
   ],
   "source": [
    "etl_assistant_pipeline.lauch_gradio_interface(share=False)"
   ]
  }
 ],
 "metadata": {
  "kernelspec": {
   "display_name": "swiftie-env",
   "language": "python",
   "name": "python3"
  },
  "language_info": {
   "codemirror_mode": {
    "name": "ipython",
    "version": 3
   },
   "file_extension": ".py",
   "mimetype": "text/x-python",
   "name": "python",
   "nbconvert_exporter": "python",
   "pygments_lexer": "ipython3",
   "version": "3.12.3"
  }
 },
 "nbformat": 4,
 "nbformat_minor": 5
}
